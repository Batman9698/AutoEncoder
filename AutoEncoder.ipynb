{
 "cells": [
  {
   "cell_type": "markdown",
   "metadata": {},
   "source": [
    "### barebones version of a linear autoencoder for the mnist dataset"
   ]
  },
  {
   "cell_type": "code",
   "execution_count": 1,
   "metadata": {},
   "outputs": [],
   "source": [
    "import numpy as np\n",
    "import matplotlib.pyplot as plt\n",
    "import pandas as pd\n",
    "import os\n",
    "import torch\n",
    "import torch.nn as nn\n",
    "import torch.optim as optim\n",
    "from torch.utils.data import Dataset\n",
    "from torch.utils.data import DataLoader\n",
    "import torch.nn.functional as F\n",
    "import torchvision\n",
    "from torchvision import transforms"
   ]
  },
  {
   "cell_type": "code",
   "execution_count": 2,
   "metadata": {},
   "outputs": [
    {
     "name": "stdout",
     "output_type": "stream",
     "text": [
      "cuda\n"
     ]
    }
   ],
   "source": [
    "device = 'cuda'if torch.cuda.is_available() else 'cpu'\n",
    "print(device)"
   ]
  },
  {
   "cell_type": "code",
   "execution_count": 3,
   "metadata": {},
   "outputs": [],
   "source": [
    "class MNIST(Dataset):\n",
    "    def __init__(self, file_path, transform = None):\n",
    "        self.data = pd.read_csv(file_path)\n",
    "        self.transform = transform\n",
    "        \n",
    "    def __len__(self):\n",
    "        return(len(self.data))\n",
    "    \n",
    "    def __getitem__(self, index):\n",
    "        image = self.data.iloc[index, 1:].values.astype(np.uint8).reshape((28, 28,1))\n",
    "        label = self.data.iloc[index, 0]\n",
    "        \n",
    "        if self.transform is not None:\n",
    "            image = self.transform(image)\n",
    "        \n",
    "        return image, label"
   ]
  },
  {
   "cell_type": "code",
   "execution_count": 4,
   "metadata": {},
   "outputs": [],
   "source": [
    "path = os.getcwd()+'/data'\n",
    "train = MNIST(path+'/mnist_train.csv', transform = transforms.ToTensor())\n",
    "test = MNIST(path+'/mnist_test.csv', transform = transforms.ToTensor())"
   ]
  },
  {
   "cell_type": "code",
   "execution_count": 5,
   "metadata": {},
   "outputs": [],
   "source": [
    "trainloader = DataLoader(train, batch_size = 8)\n",
    "testloader = DataLoader(test, batch_size = 8)"
   ]
  },
  {
   "cell_type": "code",
   "execution_count": 6,
   "metadata": {},
   "outputs": [],
   "source": [
    "class Autoencoder(nn.Module):\n",
    "    def __init__(self, encoding_dim):\n",
    "        super(Autoencoder, self).__init__()\n",
    "        \n",
    "        self.fc1 = nn.Linear(784, encoding_dim)\n",
    "        self.fc2 = nn.Linear(encoding_dim, 784)\n",
    "    \n",
    "    def forward(self, x):\n",
    "        x = F.relu(self.fc1(x))\n",
    "        x = torch.sigmoid(self.fc2(x))\n",
    "        return x"
   ]
  },
  {
   "cell_type": "code",
   "execution_count": 7,
   "metadata": {},
   "outputs": [
    {
     "name": "stdout",
     "output_type": "stream",
     "text": [
      "Autoencoder(\n",
      "  (fc1): Linear(in_features=784, out_features=32, bias=True)\n",
      "  (fc2): Linear(in_features=32, out_features=784, bias=True)\n",
      ")\n"
     ]
    }
   ],
   "source": [
    "model = Autoencoder(encoding_dim = 32).to(device)\n",
    "print(model)"
   ]
  },
  {
   "cell_type": "code",
   "execution_count": 8,
   "metadata": {},
   "outputs": [],
   "source": [
    "MSE = nn.MSELoss()\n",
    "optimizer = optim.Adam(model.parameters(), lr = 0.001)"
   ]
  },
  {
   "cell_type": "code",
   "execution_count": 10,
   "metadata": {},
   "outputs": [
    {
     "name": "stdout",
     "output_type": "stream",
     "text": [
      "epoch: 1 | Training loss: 0.142032 | Validation loss: 0.138538\n",
      "epoch: 2 | Training loss: 0.132786 | Validation loss: 0.130975\n",
      "epoch: 3 | Training loss: 0.13055 | Validation loss: 0.129883\n",
      "epoch: 4 | Training loss: 0.129625 | Validation loss: 0.1292\n",
      "epoch: 5 | Training loss: 0.128964 | Validation loss: 0.128721\n",
      "epoch: 6 | Training loss: 0.128449 | Validation loss: 0.128282\n",
      "epoch: 7 | Training loss: 0.127983 | Validation loss: 0.127959\n",
      "epoch: 8 | Training loss: 0.127622 | Validation loss: 0.127678\n",
      "epoch: 9 | Training loss: 0.127311 | Validation loss: 0.127438\n",
      "epoch: 10 | Training loss: 0.12704 | Validation loss: 0.127152\n",
      "epoch: 11 | Training loss: 0.126802 | Validation loss: 0.12698\n",
      "epoch: 12 | Training loss: 0.126587 | Validation loss: 0.12669\n",
      "epoch: 13 | Training loss: 0.126392 | Validation loss: 0.126535\n",
      "epoch: 14 | Training loss: 0.126214 | Validation loss: 0.12638\n",
      "epoch: 15 | Training loss: 0.126033 | Validation loss: 0.126225\n",
      "epoch: 16 | Training loss: 0.12587 | Validation loss: 0.126075\n",
      "epoch: 17 | Training loss: 0.125726 | Validation loss: 0.125796\n",
      "epoch: 18 | Training loss: 0.125592 | Validation loss: 0.125665\n",
      "epoch: 19 | Training loss: 0.125467 | Validation loss: 0.125562\n",
      "epoch: 20 | Training loss: 0.125346 | Validation loss: 0.125426\n"
     ]
    }
   ],
   "source": [
    "epochs = 20\n",
    "for epoch in range(epochs):\n",
    "    training_loss = 0.0\n",
    "    validation_loss = 0.0\n",
    "    model.train()\n",
    "    for data in trainloader:\n",
    "        images, labels = data\n",
    "        images = images.view(images.size(0), -1).to(device)\n",
    "        \n",
    "        optimizer.zero_grad()\n",
    "        outputs = model(images)\n",
    "        \n",
    "        loss = MSE(outputs, images)\n",
    "        loss.backward()\n",
    "        optimizer.step()\n",
    "        \n",
    "        training_loss += loss.item()*images.size(0)\n",
    "    model.eval()\n",
    "    for data in testloader:\n",
    "        images, labels = data\n",
    "        images = images.view(images.size(0), -1).to(device)\n",
    "        outputs = model(images)\n",
    "        loss = MSE(outputs, images)\n",
    "        validation_loss += loss.item()*images.size(0) \n",
    "        \n",
    "    training_loss = training_loss/len(trainloader)\n",
    "    validation_loss = validation_loss/len(testloader)\n",
    "    print(f'epoch: {epoch+1} | Training loss: {round(training_loss, 6)} | Validation loss: {round(validation_loss, 6)}')\n",
    "    "
   ]
  },
  {
   "cell_type": "code",
   "execution_count": 24,
   "metadata": {},
   "outputs": [],
   "source": [
    "def convert(image):\n",
    "    image = image.to('cpu').detach().squeeze().numpy()\n",
    "    return image"
   ]
  },
  {
   "cell_type": "code",
   "execution_count": 42,
   "metadata": {},
   "outputs": [
    {
     "data": {
      "text/plain": [
       "torch.Size([1, 28, 28])"
      ]
     },
     "execution_count": 42,
     "metadata": {},
     "output_type": "execute_result"
    }
   ],
   "source": [
    "img, label = iter(testloader).next()\n",
    "label"
   ]
  },
  {
   "cell_type": "code",
   "execution_count": null,
   "metadata": {},
   "outputs": [],
   "source": [
    "img = img[3]\n",
    "img.shape"
   ]
  },
  {
   "cell_type": "code",
   "execution_count": 43,
   "metadata": {},
   "outputs": [
    {
     "data": {
      "text/plain": [
       "<matplotlib.image.AxesImage at 0x7f3fb1a60f28>"
      ]
     },
     "execution_count": 43,
     "metadata": {},
     "output_type": "execute_result"
    },
    {
     "data": {
      "image/png": "[encoded data removed]",
      "text/plain": [
       "<Figure size 432x288 with 1 Axes>"
      ]
     },
     "metadata": {
      "needs_background": "light"
     },
     "output_type": "display_data"
    }
   ],
   "source": [
    "plt.imshow(convert(img))"
   ]
  },
  {
   "cell_type": "code",
   "execution_count": 44,
   "metadata": {},
   "outputs": [],
   "source": [
    "img = img.view(img.size(0), -1).to(device)\n",
    "output = model(img)"
   ]
  },
  {
   "cell_type": "code",
   "execution_count": 45,
   "metadata": {},
   "outputs": [],
   "source": [
    "output = output.view(1,28,28)"
   ]
  },
  {
   "cell_type": "code",
   "execution_count": 46,
   "metadata": {},
   "outputs": [
    {
     "data": {
      "text/plain": [
       "<matplotlib.image.AxesImage at 0x7f3fb407ce10>"
      ]
     },
     "execution_count": 46,
     "metadata": {},
     "output_type": "execute_result"
    },
    {
     "data": {
      "image/png": "[encoded data removed]",
      "text/plain": [
       "<Figure size 432x288 with 1 Axes>"
      ]
     },
     "metadata": {
      "needs_background": "light"
     },
     "output_type": "display_data"
    }
   ],
   "source": [
    "plt.imshow(convert(output))"
   ]
  },
  {
   "cell_type": "code",
   "execution_count": null,
   "metadata": {},
   "outputs": [],
   "source": []
  }
 ],
 "metadata": {
  "kernelspec": {
   "display_name": "Python 3",
   "language": "python",
   "name": "python3"
  },
  "language_info": {
   "codemirror_mode": {
    "name": "ipython",
    "version": 3
   },
   "file_extension": ".py",
   "mimetype": "text/x-python",
   "name": "python",
   "nbconvert_exporter": "python",
   "pygments_lexer": "ipython3",
   "version": "3.6.9"
  }
 },
 "nbformat": 4,
 "nbformat_minor": 4
}
